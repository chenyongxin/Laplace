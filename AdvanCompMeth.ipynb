{
 "metadata": {
  "name": "",
  "signature": "sha256:14c63a0a342c341eb4e0b4e06355113350b36e58c5287637333d41b5de2d7c5f"
 },
 "nbformat": 3,
 "nbformat_minor": 0,
 "worksheets": [
  {
   "cells": [
    {
     "cell_type": "markdown",
     "metadata": {},
     "source": [
      "# Laplace. The first step for PDE :)  Yongxin Chen\n",
      "\n",
      "Let's get started\n",
      "\n",
      "## $2^{nd}$ order stencil derivative."
     ]
    },
    {
     "cell_type": "markdown",
     "metadata": {},
     "source": [
      " Add some ingredients"
     ]
    },
    {
     "cell_type": "code",
     "collapsed": false,
     "input": [
      "import numpy as np\n",
      "import scipy as sp\n",
      "import scipy.linalg\n",
      "import matplotlib.pyplot as plt"
     ],
     "language": "python",
     "metadata": {},
     "outputs": [],
     "prompt_number": 1
    },
    {
     "cell_type": "code",
     "collapsed": false,
     "input": [
      "def embed(T, Te=2):\n",
      "    \"\"\"Embed the array T giving the temperature at the inner no the domain into a larger array including the boundary tempe \"\"\"\n",
      "    N = T.shape[0] + 2\n",
      "    Tfull = np.zeros((N,N))\n",
      "    # Here, all boundaries are indentical.\n",
      "    Tfull[1:-1, 1:-1] = T\n",
      "    return Tfull"
     ],
     "language": "python",
     "metadata": {},
     "outputs": [],
     "prompt_number": 2
    },
    {
     "cell_type": "markdown",
     "metadata": {},
     "source": [
      "The Laplacian solver below. In order to define $\\rho(0.5,0.5)=2$ where at central so an odd total number should be used. Say N=51."
     ]
    },
    {
     "cell_type": "code",
     "collapsed": false,
     "input": [
      "def laplace2d(get_A, get_b, N=51, Te=2):\n",
      "    \"\"\"Solve the Laplace equation on a 2D grid, with T=0 at all boundaries\"\"\"\n",
      "    n=N-2\n",
      "    A = get_A(n)\n",
      "    b = get_b(n, Te)\n",
      "    U = sp.linalg.solve(A, b)\n",
      "    T = U.reshape((n, n))\n",
      "    Tfull = embed(T, Te)\n",
      "    return Tfull"
     ],
     "language": "python",
     "metadata": {},
     "outputs": [],
     "prompt_number": 3
    },
    {
     "cell_type": "code",
     "collapsed": false,
     "input": [
      "def plot_pcolor(Tfull):\n",
      "    \"\"\"Plot temperature in the domain using pcolor\"\"\"\n",
      "    N = Tfull.shape[0]\n",
      "    x = y = np.linspace(0, 1, N)\n",
      "    X, Y = np.meshgrid(x,y)\n",
      "    plt.pcolor(X, Y, Tfull)\n",
      "    plt.axis('scaled')\n",
      "    plt.colorbar()\n",
      "    plt.xlabel('x (m)')\n",
      "    plt.ylabel('y (m)')\n",
      "    plt.title('T(x,y) on %dx%d grid' % (N,N))\n",
      "def plot_wireframe(Tfull):\n",
      "    \"\"\"Plot temperature in the domain using plot_wireframe\"\"\" \n",
      "    from mpl_toolkits.mplot3d import axes3d\n",
      "    N = Tfull.shape[0]\n",
      "    x = y = np.linspace(0, 1, N)\n",
      "    X, Y = np.meshgrid(x,y)\n",
      "    # Construct and return a function suitable for interactive def plot(elev=25, azim=50):\n",
      "    fig = plt.figure(1, figsize=(14, 8))\n",
      "    plt.clf()\n",
      "    ax = fig.add_subplot(111, projection='3d')\n",
      "    ax.plot_wireframe(X, Y, Tfull)\n",
      "    ax.view_init(elev=elev, azim=azim)\n",
      "    plt.axis('scaled')\n",
      "    plt.xlabel('x (m)')\n",
      "    plt.ylabel('y (m)')\n",
      "    plt.title('T(x,y) on %dx%d grid' % (N,N))\n",
      "    plot()\n",
      "    return plot"
     ],
     "language": "python",
     "metadata": {},
     "outputs": [],
     "prompt_number": 4
    },
    {
     "cell_type": "code",
     "collapsed": false,
     "input": [
      "def get_A(n):\n",
      "    \"\"\"Return matrix A for 2D Laplace equation using block diag structure, given the number of unknowns \u2019n\u2019 in each directi \"\"\"\n",
      "    Bdiag = -4 * np.eye(n)\n",
      "    Bupper = np.diag([1] * (n - 1), 1)\n",
      "    Blower = np.diag([1] * (n - 1), -1)\n",
      "    B = Bdiag + Bupper + Blower\n",
      "    # Creat a list [B,B,B,...,B] with n Bs\n",
      "    blst = [B] * n\n",
      "    # Unpack the list of diagonal blocks \u2019blst\u2019\n",
      "    # since block_diag expects each block to be passed as separ \n",
      "    # arguments. This is the same as doing block_diag(B,B,B,... \n",
      "    A = sp.linalg.block_diag(*blst)\n",
      "    # Upper diagonal array offset by n: we\u2019ve got (n-1) I block \n",
      "    # each containing n ones\n",
      "    Dupper = np.diag(np.ones(n * (n - 1)), n)\n",
      "    # Lower diagonal array offset by -n\n",
      "    Dlower = np.diag(np.ones(n * (n - 1)), -n)\n",
      "    A += Dupper + Dlower\n",
      "    return A"
     ],
     "language": "python",
     "metadata": {},
     "outputs": [],
     "prompt_number": 5
    },
    {
     "cell_type": "markdown",
     "metadata": {},
     "source": [
      "Notice here, Te=100 is a default value. When you need to use it, it should be Te=2 in assignment.\n",
      "\n",
      "Please notice: When set boundary condition, the LHS difference stencil is (1,1,-4,1,1) and RHS should be $\\rho \\times h^2$. That indicates all the procedure is mesh dependent. And RHS, it should be Te, but not -Te."
     ]
    },
    {
     "cell_type": "code",
     "collapsed": false,
     "input": [
      "def get_b(n, Te=2):\n",
      "    \"\"\"Return column vector of size n^2 containing the boundary conditions.\"\"\"\n",
      "    b = np.zeros(n**2)\n",
      "    b[(n*n-1)/2] = Te*(1./(N-1))**2\n",
      "    return b"
     ],
     "language": "python",
     "metadata": {},
     "outputs": [],
     "prompt_number": 6
    },
    {
     "cell_type": "code",
     "collapsed": false,
     "input": [
      "N=51\n",
      "n=N-2\n",
      "Tfull = laplace2d(get_A, get_b,N)\n",
      "plt.figure(1)\n",
      "plt.clf()\n",
      "plot_pcolor(Tfull)\n",
      "#plt.savefig(\u2019fig06-01.pdf\u2019)"
     ],
     "language": "python",
     "metadata": {},
     "outputs": [
      {
       "metadata": {},
       "output_type": "display_data",
       "png": "[encoded data removed]",
       "text": [
        "<matplotlib.figure.Figure at 0x10affd110>"
       ]
      }
     ],
     "prompt_number": 7
    },
    {
     "cell_type": "markdown",
     "metadata": {},
     "source": [
      "Then, let's test if the central point's $\\triangledown^2 u(0.5,0.5) = 2$. Here, just use forward difference stencil (1,1,-4,1,1)"
     ]
    },
    {
     "cell_type": "code",
     "collapsed": false,
     "input": [
      "Delta = 1./(N-1)\n",
      "U = Tfull\n",
      "(U[(N-1)/2-1,(N-1)/2]+U[(N-1)/2,(N-1)/2-1]-4*U[(N-1)/2,(N-1)/2]+U[(N-1)/2,(N-1)/2+1]+U[(N-1)/2+1,(N-1)/2])/(Delta**2)"
     ],
     "language": "python",
     "metadata": {},
     "outputs": [
      {
       "metadata": {},
       "output_type": "pyout",
       "prompt_number": 8,
       "text": [
        "2.0000000000000009"
       ]
      }
     ],
     "prompt_number": 8
    },
    {
     "cell_type": "markdown",
     "metadata": {},
     "source": [
      "Better solution, isn't it? "
     ]
    },
    {
     "cell_type": "markdown",
     "metadata": {},
     "source": [
      "## SOR solver for PDE"
     ]
    },
    {
     "cell_type": "markdown",
     "metadata": {},
     "source": [
      "Here, we have a linear system. $Ax=b$"
     ]
    },
    {
     "cell_type": "code",
     "collapsed": false,
     "input": [
      "# Initialization\n",
      "A = get_A(n)\n",
      "b = get_b(n)\n",
      "x = np.zeros_like(b)\n",
      "\n",
      "ITERATION_LIMIT = 1000\n",
      "omega = 1.3\n",
      "\n",
      "for it_count in range(ITERATION_LIMIT):\n",
      "    x_new = np.zeros_like(x)\n",
      "    \n",
      "    for i in range(A.shape[0]):\n",
      "        s1 = np.dot(A[i, :i], x_new[:i])\n",
      "        s2 = np.dot(A[i, i + 1:], x[i + 1:])\n",
      "        # Here, add relaxation parameter omega.\n",
      "        # When we finish this inner loop, we put x_new value to old value and then do again and again.  \n",
      "        x_new[i] = (b[i] - s1 - s2) / A[i, i] * omega + (1 - omega) * x[i]\n",
      "\n",
      "    x = x_new\n",
      "    \n",
      "# Here, x is a 49*49 matrix. Hence, we add boundary values as what do in the first question\n",
      "T     = x.reshape([n,n])\n",
      "Tfull = embed(T)\n",
      "\n",
      "# Plot\n",
      "plt.figure(2)\n",
      "plt.clf()\n",
      "plot_pcolor(Tfull)"
     ],
     "language": "python",
     "metadata": {},
     "outputs": [
      {
       "metadata": {},
       "output_type": "display_data",
       "png": "[encoded data removed]",
       "text": [
        "<matplotlib.figure.Figure at 0x117007d50>"
       ]
      }
     ],
     "prompt_number": 9
    },
    {
     "cell_type": "markdown",
     "metadata": {},
     "source": [
      "Then, check the $\\triangledown^2 (central \\ point) \\ ?= 2$. Do the same thing as in first question with FD stencil."
     ]
    },
    {
     "cell_type": "code",
     "collapsed": false,
     "input": [
      "U = Tfull\n",
      "(U[(N-1)/2-1,(N-1)/2]+U[(N-1)/2,(N-1)/2-1]-4*U[(N-1)/2,(N-1)/2]+U[(N-1)/2,(N-1)/2+1]+U[(N-1)/2+1,(N-1)/2])/(Delta**2)"
     ],
     "language": "python",
     "metadata": {},
     "outputs": [
      {
       "metadata": {},
       "output_type": "pyout",
       "prompt_number": 10,
       "text": [
        "1.9999979527111986"
       ]
      }
     ],
     "prompt_number": 10
    },
    {
     "cell_type": "markdown",
     "metadata": {},
     "source": [
      "## $4^{th}$ order stencil derivative."
     ]
    },
    {
     "cell_type": "markdown",
     "metadata": {},
     "source": [
      "The $4^{th}$ order stencil derivative looks like $f''(x)=\\frac{-f(x-2h)+16f(x-h)-30f(x)+16f(x+h)-f(x+2h)}{12h^2}$. \n",
      "\n",
      "So in 2D problem, it is $f''(x,y)=\\frac{-f(x-2h,y)+16f(x-h,y)-30f(x,y)+16f(x+h,y)-f(x+2h,y)}{12h^2}+\\frac{-f(x,y-2h)+16f(x,y-h)-30f(x,y)+16f(x,y+h)-f(x,y+2h)}{12h^2}$"
     ]
    },
    {
     "cell_type": "code",
     "collapsed": false,
     "input": [
      "def get_k(i, j, n):\n",
      "    \"\"\"Convert from (i,j) indices in T array to k index in U column vector.\"\"\"\n",
      "    return i * n + j\n",
      "\n",
      "def move(i, j, direction):\n",
      "    \"\"\"Move from index (i,j) in direction 'up', 'down', 'left' or 'right'.\n",
      "    \"\"\"\n",
      "    if direction == 'up':\n",
      "        return i - 1, j\n",
      "    if direction == 'down':\n",
      "        return i + 1, j\n",
      "    if direction == 'left':\n",
      "        return i, j - 1\n",
      "    if direction == 'right':\n",
      "        return i, j + 1\n",
      "    # Unknown direction\n",
      "    raise ValueError(\"Unknown direction %s\" % direction)\n",
      "\n",
      "def move2(i, j, direction):\n",
      "    \"\"\"Move from index (i,j) in direction 'up', 'down', 'left' or 'right'.\n",
      "       Note this is for 2nd order stencil.\n",
      "    \"\"\"\n",
      "    if direction == 'up':\n",
      "        return i - 1, j\n",
      "    if direction == 'down':\n",
      "        return i + 1, j\n",
      "    if direction == 'left':\n",
      "        return i, j - 1\n",
      "    if direction == 'right':\n",
      "        return i, j + 1\n",
      "    # Unknown direction\n",
      "    raise ValueError(\"Unknown direction %s\" % direction)\n",
      "\n",
      "def move4(i, j, direction):\n",
      "    \"\"\"Move from index (i,j) in direction 'up', 'down', 'left' or 'right'.\n",
      "       Note this is for 2nd order stencil.\n",
      "    \"\"\"\n",
      "    if direction == 'up':\n",
      "        return i - 2, j\n",
      "    if direction == 'down':\n",
      "        return i + 2, j\n",
      "    if direction == 'left':\n",
      "        return i, j - 2\n",
      "    if direction == 'right':\n",
      "        return i, j + 2\n",
      "    # Unknown direction\n",
      "    raise ValueError(\"Unknown direction %s\" % direction)\n",
      "\n",
      "def get_k_neighbours(i, j, n):\n",
      "    \"\"\"Return the k-indices of the (i,j) neighbours\n",
      "         (k_up, k_right, k_down, k_left)\n",
      "    going clockwise from the neighbour above node (i,j).\n",
      "    \"\"\"\n",
      "    klst = []\n",
      "    for direction in ['up', 'right', 'down', 'left']:\n",
      "        idir, jdir = move(i, j, direction)\n",
      "        kdir = get_k(idir, jdir, n)\n",
      "        klst.append(kdir)\n",
      "    return klst\n",
      "    \n",
      "def get_k_neighbours2(i, j, n):\n",
      "    \"\"\"2nd order derivative stencil.\n",
      "    \"\"\"\n",
      "    klst = []\n",
      "    for direction in ['up', 'right', 'down', 'left']:\n",
      "        idir, jdir = move2(i, j, direction)\n",
      "        kdir = get_k(idir, jdir, n)\n",
      "        klst.append(kdir)\n",
      "    return klst\n",
      "\n",
      "def get_k_neighbours4(i, j, n):\n",
      "    \"\"\"4th order derivative stencil.\n",
      "    \"\"\"\n",
      "    klst = []\n",
      "    for direction in ['up', 'right', 'down', 'left']:\n",
      "        idir, jdir = move2(i, j, direction)\n",
      "        kdir = get_k(idir, jdir, n)\n",
      "        klst.append(kdir)\n",
      "    for direction in ['up', 'right', 'down', 'left']:\n",
      "        idir, jdir = move4(i, j, direction)\n",
      "        kdir = get_k(idir, jdir, n)\n",
      "        klst.append(kdir)\n",
      "    return klst\n",
      "    \n",
      "def fill(A, ilst=None, jlst=None, directions='UDLR'):\n",
      "    \"\"\"Fill the stencil coefficients in matrix A corresponding to\n",
      "    nodes (i,j), where i is taken from 'ilst' and j from 'jlst', but\n",
      "    only for the directions listed in string directions, where\n",
      "    U -> up\n",
      "    D -> down\n",
      "    L -> left\n",
      "    R -> right.\n",
      "    \"\"\"\n",
      "    # A is of shape n^2 x n^2 so:\n",
      "    n = int(np.sqrt(A.shape[0]))\n",
      "    # Set default values for ilst and jlst to cover\n",
      "    # all non-boundary nodes\n",
      "    if ilst is None:\n",
      "        # all rows except first and last one\n",
      "        ilst = range(1, n - 1)\n",
      "    if jlst is None:\n",
      "        # all columns except first and last one\n",
      "        jlst = range(1, n - 1)  #\n",
      "\n",
      "    # Loop over all nodes (i,j) in [ilst x jlst] and fill A\n",
      "    for i in ilst:\n",
      "        for j in jlst:\n",
      "            k = get_k(i, j, n)\n",
      "            up, right, down, left =  get_k_neighbours(i, j, n)\n",
      "            A[k, k]=-4\n",
      "            if 'U' in directions:\n",
      "                A[k, up] = 1\n",
      "            if 'D' in directions:\n",
      "                A[k, down] = 1\n",
      "            if 'L' in directions:\n",
      "                A[k, left] = 1\n",
      "            if 'R' in directions:\n",
      "                A[k, right] = 1\n",
      "\n",
      "def fill2(A, ilst=None, jlst=None, directions='UDLR'):\n",
      "    \"\"\"Change a little bit of fill function to deal with boundary points.\n",
      "       Note it is 2nd order derivative stencil and we will definitely assign values for ilst and jlst\"\"\"\n",
      "    # A is of shape n^2 x n^2 so:\n",
      "    n = int(np.sqrt(A.shape[0]))\n",
      "    # Loop over all nodes (i,j) in [ilst x jlst] and fill A\n",
      "    if ilst is None:\n",
      "        # all rows except first and last one\n",
      "        ilst = range(1, n - 1)\n",
      "    if jlst is None:\n",
      "        # all columns except first and last one\n",
      "        jlst = range(1, n - 1)  \n",
      "    for i in ilst:\n",
      "        for j in jlst:\n",
      "            k = get_k(i, j, n)\n",
      "            up, right, down, left =  get_k_neighbours2(i, j, n)\n",
      "            A[k, k]=-4\n",
      "            if 'U' in directions:\n",
      "                A[k, up] = 1\n",
      "            if 'D' in directions:\n",
      "                A[k, down] = 1\n",
      "            if 'L' in directions:\n",
      "                A[k, left] = 1\n",
      "            if 'R' in directions:\n",
      "                A[k, right] = 1\n",
      "                \n",
      "def fill4(A, ilst=None, jlst=None, directions='UDLR'):\n",
      "    \"\"\"fill4 function is to deal with 4th order stencil for inner domain\n",
      "        Note the inner domain's size is (n-2)^2*(n-2)^2\"\"\"\n",
      "    n = int(np.sqrt(A.shape[0]))\n",
      "    # Loop over all nodes (i,j) in [ilst x jlst] and fill A\n",
      "    if ilst is None:\n",
      "        ilst = range(2, n - 2)\n",
      "    if jlst is None:\n",
      "        jlst = range(2, n - 2)  \n",
      "    for i in ilst:\n",
      "        for j in jlst:\n",
      "            k = get_k(i, j, n)\n",
      "            up1, right1, down1, left1, up2, right2, down2, left2 =  get_k_neighbours4(i, j, n)\n",
      "            A[k, k]=-60\n",
      "            if 'U' in directions:\n",
      "                A[k, up1] = 16\n",
      "                A[k, up2] = -1\n",
      "            if 'D' in directions:\n",
      "                A[k, down1] = 16\n",
      "                A[k, down2] = -1\n",
      "            if 'L' in directions:\n",
      "                A[k, left1] = 16\n",
      "                A[k, left2] = -1\n",
      "            if 'R' in directions:\n",
      "                A[k, right1] = 16    \n",
      "                A[k, right2] = -1\n",
      "\n",
      "def get_A2(n):\n",
      "    \"\"\"Return 2D Laplace matrix A using solution 2\"\"\"\n",
      "    # Initialize the matrix\n",
      "    A = np.zeros((n**2, n**2))\n",
      "    # Fill A for inner nodes\n",
      "    fill(A)\n",
      "    # Fill top, bottom, left and right boundaries:\n",
      "    fill(A, ilst=[0], directions='DLR')    # top\n",
      "    fill(A, ilst=[n-1], directions='ULR')  # bottom\n",
      "    fill(A, jlst=[0], directions='UDR')  # left\n",
      "    fill(A, jlst=[n-1], directions='UDL')  # right\n",
      "    # Fill corners\n",
      "    fill(A, [0], [0], 'RD')      # top left\n",
      "    fill(A, [0], [n-1], 'LD')    # top right\n",
      "    fill(A, [n-1], [0], 'UR')    # bottom left\n",
      "    fill(A, [n-1], [n-1], 'LU')  # bottom right\n",
      "    return A\n",
      "\n",
      "def get_A4(n):\n",
      "    \"\"\"4th order stencil\"\"\"\n",
      "    A = np.zeros((n**2, n**2))\n",
      "    # Fill A for inner nodes\n",
      "    fill4(A)\n",
      "    # Note for inner domain, we still need to define its concers and boundaries.\n",
      "    # Here, I still use 2nd derivative for those 'tricky' points :)\n",
      "    fill2(A, ilst=[1]  )    # top\n",
      "    fill2(A, ilst=[n-2])  # bottom\n",
      "    fill2(A, jlst=[1]  )  # left\n",
      "    fill2(A, jlst=[n-2])  # right\n",
      "    # Fill corners\n",
      "    fill2(A, [1]  , [1]  )      # top left\n",
      "    fill2(A, [1]  , [n-2])    # top right\n",
      "    fill2(A, [n-2], [2]  )    # bottom left\n",
      "    fill2(A, [n-2], [n-2])  # bottom right    \n",
      "    \n",
      "    # Fill top, bottom, left and right boundaries:\n",
      "    fill2(A, ilst=[0], directions='DLR')    # top\n",
      "    fill2(A, ilst=[n-1], directions='ULR')  # bottom\n",
      "    fill2(A, jlst=[0], directions='UDR')  # left\n",
      "    fill2(A, jlst=[n-1], directions='UDL')  # right\n",
      "    # Fill corners\n",
      "    fill2(A, [0], [0], 'RD')      # top left\n",
      "    fill2(A, [0], [n-1], 'LD')    # top right\n",
      "    fill2(A, [n-1], [0], 'UR')    # bottom left\n",
      "    fill2(A, [n-1], [n-1], 'LU')  # bottom right\n",
      "    return A\n"
     ],
     "language": "python",
     "metadata": {},
     "outputs": [],
     "prompt_number": 11
    },
    {
     "cell_type": "code",
     "collapsed": false,
     "input": [
      "# Change slightly about laplace solver. Of course the matrix b. \n",
      "def laplace2d(get_A4, get_b, N, Te=2):\n",
      "    \"\"\"Solve the Laplace equation on a 2D grid, with T=0 at all\n",
      "    boundaries except y=0, where T=Te, and return an 2D array of size\n",
      "    NxN giving the temperature distribution throughout the domain.\n",
      "    \"\"\"\n",
      "    n = N - 2\n",
      "    A = get_A4(n)\n",
      "    b = get_b(n, Te)\n",
      "    U = sp.linalg.solve(A, b)\n",
      "    T = U.reshape((n, n))\n",
      "    Tfull = embed(T, Te)\n",
      "    return Tfull\n",
      "\n",
      "def get_b(n, Te=2):\n",
      "    \"\"\"Return column vector of size n^2 containing the boundary conditions.\"\"\"\n",
      "    b = np.zeros(n**2)\n",
      "    b[(n*n-1)/2] = 12*Te*(1./(N-1))**2\n",
      "    return b\n"
     ],
     "language": "python",
     "metadata": {},
     "outputs": [],
     "prompt_number": 12
    },
    {
     "cell_type": "markdown",
     "metadata": {},
     "source": [
      "OK, now, it is time to test it ! :) Hope it works."
     ]
    },
    {
     "cell_type": "code",
     "collapsed": false,
     "input": [
      "N=51\n",
      "n=N-2\n",
      "Tfull = laplace2d(get_A4, get_b,N)\n",
      "plt.figure(1)\n",
      "plt.clf()\n",
      "plot_pcolor(Tfull)"
     ],
     "language": "python",
     "metadata": {},
     "outputs": [
      {
       "metadata": {},
       "output_type": "display_data",
       "png": "[encoded data removed]",
       "text": [
        "<matplotlib.figure.Figure at 0x117070790>"
       ]
      }
     ],
     "prompt_number": 13
    },
    {
     "cell_type": "markdown",
     "metadata": {},
     "source": [
      "Not bad right? Test central point with that stencil. "
     ]
    },
    {
     "cell_type": "code",
     "collapsed": false,
     "input": [
      "Delta = 1./(N-1)\n",
      "U = Tfull\n",
      "(16*U[(N-1)/2-1,(N-1)/2]+16*U[(N-1)/2,(N-1)/2-1]-60*U[(N-1)/2,(N-1)/2]+16*U[(N-1)/2,(N-1)/2+1]+16*U[(N-1)/2+1,(N-1)/2] \\\n",
      "-U[(N-1)/2-2,(N-1)/2]-U[(N-1)/2,(N-1)/2-2]-U[(N-1)/2,(N-1)/2+2]-U[(N-1)/2+2,(N-1)/2])/(12*Delta**2)"
     ],
     "language": "python",
     "metadata": {},
     "outputs": [
      {
       "metadata": {},
       "output_type": "pyout",
       "prompt_number": 14,
       "text": [
        "1.9999999999999996"
       ]
      }
     ],
     "prompt_number": 14
    }
   ],
   "metadata": {}
  }
 ]
}