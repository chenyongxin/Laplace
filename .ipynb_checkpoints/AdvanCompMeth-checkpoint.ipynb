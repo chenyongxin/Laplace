{
 "metadata": {
  "name": "",
  "signature": "sha256:d79acfa6386c742a902c17d530bfbce27f0cc7a47b9c41f657ad8515b2e52304"
 },
 "nbformat": 3,
 "nbformat_minor": 0,
 "worksheets": [
  {
   "cells": [
    {
     "cell_type": "markdown",
     "metadata": {},
     "source": [
      "# Let's get started"
     ]
    },
    {
     "cell_type": "markdown",
     "metadata": {},
     "source": [
      " Add some ingredients"
     ]
    },
    {
     "cell_type": "code",
     "collapsed": false,
     "input": [
      "import numpy as np\n",
      "import scipy as sp\n",
      "import scipy.linalg\n",
      "import matplotlib.pyplot as plt"
     ],
     "language": "python",
     "metadata": {},
     "outputs": [],
     "prompt_number": 56
    },
    {
     "cell_type": "code",
     "collapsed": false,
     "input": [
      "def embed(T, Te=2):\n",
      "    \"\"\"Embed the array T giving the temperature at the inner no the domain into a larger array including the boundary tempe \"\"\"\n",
      "    N = T.shape[0] + 2\n",
      "    Tfull = np.zeros((N,N))\n",
      "    # Here, all boundaries are indentical.\n",
      "    Tfull[1:-1, 1:-1] = T\n",
      "    return Tfull"
     ],
     "language": "python",
     "metadata": {},
     "outputs": [],
     "prompt_number": 57
    },
    {
     "cell_type": "markdown",
     "metadata": {},
     "source": [
      "The Laplacian solver below. In order to define $\\rho(0.5,0.5)=2$ where at central so an odd total number should be used. Say N=51."
     ]
    },
    {
     "cell_type": "code",
     "collapsed": false,
     "input": [
      "def laplace2d(get_A, get_b, N=51, Te=2):\n",
      "    \"\"\"Solve the Laplace equation on a 2D grid, with T=0 at all boundaries\"\"\"\n",
      "    n=N-2\n",
      "    A = get_A(n)\n",
      "    b = get_b(n, Te)\n",
      "    U = sp.linalg.solve(A, b)\n",
      "    T = U.reshape((n, n))\n",
      "    Tfull = embed(T, Te)\n",
      "    return Tfull"
     ],
     "language": "python",
     "metadata": {},
     "outputs": [],
     "prompt_number": 58
    },
    {
     "cell_type": "code",
     "collapsed": false,
     "input": [
      "def plot_pcolor(Tfull):\n",
      "    \"\"\"Plot temperature in the domain using pcolor\"\"\"\n",
      "    N = Tfull.shape[0]\n",
      "    x = y = np.linspace(0, 1, N)\n",
      "    X, Y = np.meshgrid(x,y)\n",
      "    plt.pcolor(X, Y, Tfull)\n",
      "    plt.axis('scaled')\n",
      "    plt.colorbar()\n",
      "    plt.xlabel('x (m)')\n",
      "    plt.ylabel('y (m)')\n",
      "    plt.title('T(x,y) on %dx%d grid' % (N,N))\n",
      "def plot_wireframe(Tfull):\n",
      "    \"\"\"Plot temperature in the domain using plot_wireframe\"\"\" \n",
      "    from mpl_toolkits.mplot3d import axes3d\n",
      "    N = Tfull.shape[0]\n",
      "    x = y = np.linspace(0, 1, N)\n",
      "    X, Y = np.meshgrid(x,y)\n",
      "    # Construct and return a function suitable for interactive def plot(elev=25, azim=50):\n",
      "    fig = plt.figure(1, figsize=(14, 8))\n",
      "    plt.clf()\n",
      "    ax = fig.add_subplot(111, projection='3d')\n",
      "    ax.plot_wireframe(X, Y, Tfull)\n",
      "    ax.view_init(elev=elev, azim=azim)\n",
      "    plt.axis('scaled')\n",
      "    plt.xlabel('x (m)')\n",
      "    plt.ylabel('y (m)')\n",
      "    plt.title('T(x,y) on %dx%d grid' % (N,N))\n",
      "    plot()\n",
      "    return plot"
     ],
     "language": "python",
     "metadata": {},
     "outputs": [],
     "prompt_number": 59
    },
    {
     "cell_type": "code",
     "collapsed": false,
     "input": [
      "def get_A(n):\n",
      "    \"\"\"Return matrix A for 2D Laplace equation using block diag structure, given the number of unknowns \u2019n\u2019 in each directi \"\"\"\n",
      "    Bdiag = -4 * np.eye(n)\n",
      "    Bupper = np.diag([1] * (n - 1), 1)\n",
      "    Blower = np.diag([1] * (n - 1), -1)\n",
      "    B = Bdiag + Bupper + Blower\n",
      "    # Creat a list [B,B,B,...,B] with n Bs\n",
      "    blst = [B] * n\n",
      "    # Unpack the list of diagonal blocks \u2019blst\u2019\n",
      "    # since block_diag expects each block to be passed as separ \n",
      "    # arguments. This is the same as doing block_diag(B,B,B,... \n",
      "    A = sp.linalg.block_diag(*blst)\n",
      "    # Upper diagonal array offset by n: we\u2019ve got (n-1) I block \n",
      "    # each containing n ones\n",
      "    Dupper = np.diag(np.ones(n * (n - 1)), n)\n",
      "    # Lower diagonal array offset by -n\n",
      "    Dlower = np.diag(np.ones(n * (n - 1)), -n)\n",
      "    A += Dupper + Dlower\n",
      "    return A"
     ],
     "language": "python",
     "metadata": {},
     "outputs": [],
     "prompt_number": 60
    },
    {
     "cell_type": "markdown",
     "metadata": {},
     "source": [
      "Notice here, Te=100 is a default value. When you need to use it, it should be Te=2 in assignment.\n",
      "\n",
      "Please notice: When set boundary condition, the LHS difference stencil is (1,1,-4,1,1) and RHS should be $\\rho \\times h^2$. That indicates all the procedure is mesh dependent. And RHS, it should be Te, but not -Te."
     ]
    },
    {
     "cell_type": "code",
     "collapsed": false,
     "input": [
      "def get_b(n, Te=2):\n",
      "    \"\"\"Return column vector of size n^2 containing the boundary conditions.\"\"\"\n",
      "    b = np.zeros(n**2)\n",
      "    b[(n*n-1)/2] = Te*(1./(N-1))**2\n",
      "    return b"
     ],
     "language": "python",
     "metadata": {},
     "outputs": [],
     "prompt_number": 89
    },
    {
     "cell_type": "code",
     "collapsed": false,
     "input": [
      "N=51\n",
      "Tfull = laplace2d(get_A, get_b,N)\n",
      "plt.figure(1)\n",
      "plt.clf()\n",
      "plot_pcolor(Tfull)\n",
      "#plt.savefig(\u2019fig06-01.pdf\u2019)"
     ],
     "language": "python",
     "metadata": {},
     "outputs": [
      {
       "metadata": {},
       "output_type": "display_data",
       "png": "[encoded data removed]",
       "text": [
        "<matplotlib.figure.Figure at 0x10b1e1110>"
       ]
      }
     ],
     "prompt_number": 90
    },
    {
     "cell_type": "markdown",
     "metadata": {},
     "source": [
      "Then, let's test if the central point's $\\triangledown^2 u(0.5,0.5) = 2$. Here, just use forward difference stencil (1,1,-4,1,1)"
     ]
    },
    {
     "cell_type": "code",
     "collapsed": false,
     "input": [
      "Delta = 1./(N-1)\n",
      "U = Tfull\n",
      "(U[(N-1)/2-1,(N-1)/2]+U[(N-1)/2,(N-1)/2-1]-4*U[(N-1)/2,(N-1)/2]+U[(N-1)/2,(N-1)/2+1]+U[(N-1)/2+1,(N-1)/2])/(Delta**2)"
     ],
     "language": "python",
     "metadata": {},
     "outputs": [
      {
       "metadata": {},
       "output_type": "pyout",
       "prompt_number": 91,
       "text": [
        "2.0000000000000009"
       ]
      }
     ],
     "prompt_number": 91
    },
    {
     "cell_type": "markdown",
     "metadata": {},
     "source": [
      "Better solution, isn't it? "
     ]
    },
    {
     "cell_type": "code",
     "collapsed": false,
     "input": [],
     "language": "python",
     "metadata": {},
     "outputs": [],
     "prompt_number": 91
    }
   ],
   "metadata": {}
  }
 ]
}